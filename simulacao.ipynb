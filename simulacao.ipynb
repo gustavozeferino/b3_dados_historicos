{
 "cells": [
  {
   "cell_type": "code",
   "execution_count": 1,
   "metadata": {},
   "outputs": [],
   "source": [
    "import yaml\n",
    "import db\n",
    "from datetime import datetime, timedelta"
   ]
  },
  {
   "cell_type": "code",
   "execution_count": 2,
   "metadata": {},
   "outputs": [],
   "source": [
    "# Carregar configurações do arquivo YAML\n",
    "with open(\"config.yml\", \"r\") as config_file:\n",
    "    config = yaml.safe_load(config_file)\n",
    "\n",
    "# Obter configurações do SQLite\n",
    "db_config = config[\"sqlite\"]\n",
    "database_path = db_config[\"database_path\"]\n",
    "timeout = db_config.get(\"timeout\", 5)  # Valor padrão de 5 segundos"
   ]
  },
  {
   "cell_type": "code",
   "execution_count": 59,
   "metadata": {},
   "outputs": [
    {
     "name": "stdout",
     "output_type": "stream",
     "text": [
      "Data inicial: 2020-01-02\n",
      "Data final: 2020-12-30\n"
     ]
    }
   ],
   "source": [
    "data_inicial = '2020-01-01'\n",
    "data_final = '2020-12-31'\n",
    "\n",
    "#procurar a data de pregão mais próxima.\n",
    "consulta_sql = f\"\"\"SELECT * FROM datas_pregao WHERE DATA BETWEEN ? AND ?\"\"\"\n",
    "resultados = db.consultar_banco(database_path, consulta_sql, (data_inicial, data_final))\n",
    "\n",
    "# Ajusta as datas inicial e final para o intervalo de datas encontrado\n",
    "if resultados:\n",
    "    data_inicial = resultados[0][0]\n",
    "    data_final = resultados[-1][0]\n",
    "    print(f\"Data inicial: {data_inicial}\")\n",
    "    print(f\"Data final: {data_final}\")\n",
    "else:\n",
    "    print(\"Nenhum resultado encontrado.\")\n",
    "\n",
    "\n"
   ]
  },
  {
   "cell_type": "code",
   "execution_count": null,
   "metadata": {},
   "outputs": [],
   "source": []
  },
  {
   "cell_type": "code",
   "execution_count": 60,
   "metadata": {},
   "outputs": [
    {
     "name": "stdout",
     "output_type": "stream",
     "text": [
      "Data de vencimento mais próxima: 2020-02-17\n"
     ]
    }
   ],
   "source": [
    "#procurar datas de vencimentos mais próximas.\n",
    "\n",
    "def somar_dias(data_inicial, numero_dias):\n",
    "    # Converte a string de entrada para um objeto de data\n",
    "    data = datetime.strptime(data_inicial, \"%Y-%m-%d\")\n",
    "    # Adiciona os dias à data\n",
    "    nova_data = data + timedelta(days=numero_dias)\n",
    "    # Retorna a nova data como string no mesmo formato\n",
    "    return nova_data.strftime(\"%Y-%m-%d\")\n",
    "\n",
    "data_inicial_opcao = somar_dias(data_inicial, 30)\n",
    "\n",
    "consulta_sql = f\"\"\"SELECT DATA FROM datas_vencimento WHERE DATA > ? LIMIT 1\"\"\"\n",
    "resultado_consulta = db.consultar_banco(database_path, consulta_sql, [data_inicial_opcao])\n",
    "data_inicial_opcao = resultado_consulta[0][0] if resultado_consulta else None\n",
    "if data_inicial_opcao:\n",
    "    print(f\"Data de vencimento mais próxima: {data_inicial_opcao}\")\n",
    "else:\n",
    "    print(\"Nenhuma data de vencimento encontrada após a data inicial.\")\n"
   ]
  },
  {
   "cell_type": "code",
   "execution_count": 61,
   "metadata": {},
   "outputs": [],
   "source": [
    "def preco_spot_bova11(data_pregao):\n",
    "    # Consulta o preço spot do BOVA11 para a data de pregão especificada\n",
    "    consulta_sql = f\"\"\"SELECT PREULT FROM cotacoes_bova11 WHERE DTPREG = ?\"\"\"\n",
    "    resultados = db.consultar_banco(database_path, consulta_sql, [data_pregao])\n",
    "    preco_spot = resultados[0][0] if resultados else None\n",
    "    return preco_spot"
   ]
  },
  {
   "cell_type": "code",
   "execution_count": 71,
   "metadata": {},
   "outputs": [
    {
     "name": "stdout",
     "output_type": "stream",
     "text": [
      "Preço spot do BOVA11: 114.24\n",
      "Strike inicial: 119\n"
     ]
    }
   ],
   "source": [
    "preco_spot = preco_spot_bova11(data_inicial)\n",
    "strike_inicial = int(preco_spot + 5)\n",
    "print(f\"Preço spot do BOVA11: {preco_spot}\")\n",
    "print(f\"Strike inicial: {strike_inicial}\")"
   ]
  },
  {
   "cell_type": "code",
   "execution_count": 78,
   "metadata": {},
   "outputs": [
    {
     "name": "stdout",
     "output_type": "stream",
     "text": [
      "Opção encontrada BOVAB20 Strike 120.0\n"
     ]
    }
   ],
   "source": [
    "# encontrar opcao mais próxima do strike\n",
    "consulta_sql = f\"\"\"SELECT DISTINCT CODNEG, PREEXE FROM opcoes_bova11 WHERE DATVEN = ? AND PREEXE = ?\"\"\"\n",
    "\n",
    "opcao_encontrada_codneg = False\n",
    "opcao_encontrada_strike = False\n",
    "\n",
    "for strike in range(strike_inicial, strike_inicial + 2):\n",
    "    resultados = db.consultar_banco(database_path, consulta_sql, (data_inicial_opcao, strike))\n",
    "    if resultados:\n",
    "        opcao_encontrada_codneg = resultados[0][0]\n",
    "        opcao_encontrada_strike = resultados[0][1]\n",
    "        print(f\"Opção encontrada {opcao_encontrada_codneg} Strike {opcao_encontrada_strike}\")\n",
    "        break\n",
    "\n",
    "\n"
   ]
  },
  {
   "cell_type": "markdown",
   "metadata": {},
   "source": [
    "Primeira opção encontrada. Agora é montar a posição e fazer as rolagens necessárias\n",
    "* Ideia é encerrar se chegar em 5 centavos e abrir uma nova ou rolar subindo o máximo de strikes strike\n"
   ]
  },
  {
   "cell_type": "code",
   "execution_count": 73,
   "metadata": {},
   "outputs": [
    {
     "name": "stdout",
     "output_type": "stream",
     "text": [
      "Opção encontrada: ('2020-01-02', 'BOVAB18', 118.0, '2020-02-17', 0.71, 0.71, 1.16, 1.14, 63600, '070')\n",
      "Opção encontrada: ('2020-01-02', 'BOVAB20', 120.0, '2020-02-17', 0.4, 0.4, 0.62, 0.61, 35670, '070')\n",
      "Opção encontrada: ('2020-01-03', 'BOVAB18', 118.0, '2020-02-17', 0.99, 0.99, 1.23, 1.21, 20340, '070')\n",
      "Opção encontrada: ('2020-01-03', 'BOVAB20', 120.0, '2020-02-17', 0.48, 0.48, 0.7, 0.7, 37780, '070')\n",
      "Opção encontrada: ('2020-01-06', 'BOVAB18', 118.0, '2020-02-17', 0.78, 0.72, 0.86, 0.76, 27800, '070')\n",
      "Opção encontrada: ('2020-01-06', 'BOVAB20', 120.0, '2020-02-17', 0.42, 0.32, 0.45, 0.37, 24090, '070')\n",
      "Opção encontrada: ('2020-01-07', 'BOVAB18', 118.0, '2020-02-17', 0.7, 0.56, 0.7, 0.66, 28960, '070')\n",
      "Opção encontrada: ('2020-01-07', 'BOVAB20', 120.0, '2020-02-17', 0.29, 0.29, 0.35, 0.34, 6400, '070')\n",
      "Opção encontrada: ('2020-01-08', 'BOVAB18', 118.0, '2020-02-17', 0.59, 0.56, 0.66, 0.56, 52400, '070')\n",
      "Opção encontrada: ('2020-01-08', 'BOVAB20', 120.0, '2020-02-17', 0.34, 0.24, 0.34, 0.26, 8150, '070')\n",
      "Opção encontrada: ('2020-01-09', 'BOVAB18', 118.0, '2020-02-17', 0.59, 0.4, 0.59, 0.44, 61730, '070')\n",
      "Opção encontrada: ('2020-01-09', 'BOVAB20', 120.0, '2020-02-17', 0.25, 0.2, 0.25, 0.21, 40990, '070')\n",
      "Opção encontrada: ('2020-01-10', 'BOVAB18', 118.0, '2020-02-17', 0.51, 0.3, 0.51, 0.3, 1530, '070')\n",
      "Opção encontrada: ('2020-01-10', 'BOVAB20', 120.0, '2020-02-17', 0.22, 0.15, 0.24, 0.15, 14480, '070')\n",
      "Opção encontrada: ('2020-01-13', 'BOVAB18', 118.0, '2020-02-17', 0.4, 0.4, 0.58, 0.58, 148080, '070')\n",
      "Opção encontrada: ('2020-01-13', 'BOVAB20', 120.0, '2020-02-17', 0.18, 0.15, 0.24, 0.24, 28250, '070')\n",
      "Opção encontrada: ('2020-01-14', 'BOVAB18', 118.0, '2020-02-17', 0.49, 0.47, 0.6, 0.53, 16500, '070')\n",
      "Opção encontrada: ('2020-01-14', 'BOVAB20', 120.0, '2020-02-17', 0.22, 0.2, 0.24, 0.23, 9100, '070')\n",
      "Opção encontrada: ('2020-01-15', 'BOVAB18', 118.0, '2020-02-17', 0.45, 0.35, 0.45, 0.36, 42620, '070')\n",
      "Opção encontrada: ('2020-01-15', 'BOVAB20', 120.0, '2020-02-17', 0.19, 0.15, 0.19, 0.17, 11020, '070')\n",
      "Opção encontrada: ('2020-01-16', 'BOVAB18', 118.0, '2020-02-17', 0.39, 0.3, 0.42, 0.36, 18060, '070')\n",
      "Opção encontrada: ('2020-01-16', 'BOVAB20', 120.0, '2020-02-17', 0.19, 0.12, 0.19, 0.12, 11540, '070')\n",
      "Opção encontrada: ('2020-01-17', 'BOVAB18', 118.0, '2020-02-17', 0.49, 0.42, 0.55, 0.53, 52590, '070')\n",
      "Opção encontrada: ('2020-01-17', 'BOVAB20', 120.0, '2020-02-17', 0.15, 0.15, 0.21, 0.2, 43600, '070')\n",
      "Opção encontrada: ('2020-01-20', 'BOVAB18', 118.0, '2020-02-17', 0.46, 0.46, 0.56, 0.54, 103820, '070')\n",
      "Opção encontrada: ('2020-01-20', 'BOVAB20', 120.0, '2020-02-17', 0.17, 0.17, 0.21, 0.2, 88270, '070')\n",
      "Opção encontrada: ('2020-01-21', 'BOVAB18', 118.0, '2020-02-17', 0.53, 0.35, 0.53, 0.35, 93310, '070')\n",
      "Opção encontrada: ('2020-01-21', 'BOVAB20', 120.0, '2020-02-17', 0.2, 0.14, 0.2, 0.14, 75800, '070')\n",
      "Opção encontrada: ('2020-01-22', 'BOVAB18', 118.0, '2020-02-17', 0.39, 0.38, 0.45, 0.45, 92040, '070')\n",
      "Opção encontrada: ('2020-01-22', 'BOVAB20', 120.0, '2020-02-17', 0.19, 0.14, 0.19, 0.16, 18970, '070')\n",
      "Opção encontrada: ('2020-01-23', 'BOVAB18', 118.0, '2020-02-17', 0.35, 0.27, 0.66, 0.62, 173800, '070')\n",
      "Opção encontrada: ('2020-01-23', 'BOVAB20', 120.0, '2020-02-17', 0.15, 0.11, 0.25, 0.23, 101970, '070')\n",
      "Opção encontrada: ('2020-01-24', 'BOVAB18', 118.0, '2020-02-17', 0.55, 0.37, 0.58, 0.39, 151520, '070')\n",
      "Opção encontrada: ('2020-01-24', 'BOVAB20', 120.0, '2020-02-17', 0.27, 0.12, 0.27, 0.14, 113880, '070')\n",
      "Opção encontrada: ('2020-01-27', 'BOVAB18', 118.0, '2020-02-17', 0.27, 0.13, 0.27, 0.14, 492290, '070')\n",
      "Opção encontrada: ('2020-01-27', 'BOVAB20', 120.0, '2020-02-17', 0.1, 0.05, 0.1, 0.05, 102180, '070')\n",
      "Opção encontrada: ('2020-01-28', 'BOVAB18', 118.0, '2020-02-17', 0.19, 0.12, 0.19, 0.18, 86470, '070')\n",
      "Opção encontrada: ('2020-01-28', 'BOVAB20', 120.0, '2020-02-17', 0.06, 0.05, 0.09, 0.09, 31740, '070')\n",
      "Opção encontrada: ('2020-01-29', 'BOVAB18', 118.0, '2020-02-17', 0.18, 0.1, 0.18, 0.1, 32380, '070')\n",
      "Opção encontrada: ('2020-01-29', 'BOVAB20', 120.0, '2020-02-17', 0.07, 0.04, 0.07, 0.04, 89570, '070')\n",
      "Opção encontrada: ('2020-01-30', 'BOVAB18', 118.0, '2020-02-17', 0.06, 0.05, 0.13, 0.13, 72060, '070')\n",
      "Opção encontrada: ('2020-01-30', 'BOVAB20', 120.0, '2020-02-17', 0.03, 0.02, 0.06, 0.06, 68980, '070')\n",
      "Opção encontrada: ('2020-01-31', 'BOVAB18', 118.0, '2020-02-17', 0.12, 0.09, 0.16, 0.09, 6070, '070')\n",
      "Opção encontrada: ('2020-01-31', 'BOVAB20', 120.0, '2020-02-17', 0.06, 0.04, 0.06, 0.06, 59530, '070')\n",
      "Opção encontrada: ('2020-02-03', 'BOVAB18', 118.0, '2020-02-17', 0.09, 0.08, 0.11, 0.09, 30890, '070')\n",
      "Opção encontrada: ('2020-02-03', 'BOVAB20', 120.0, '2020-02-17', 0.07, 0.04, 0.07, 0.05, 9200, '070')\n",
      "Opção encontrada: ('2020-02-04', 'BOVAB18', 118.0, '2020-02-17', 0.1, 0.05, 0.11, 0.05, 10270, '070')\n",
      "Opção encontrada: ('2020-02-04', 'BOVAB20', 120.0, '2020-02-17', 0.08, 0.03, 0.08, 0.03, 97080, '070')\n",
      "Opção encontrada: ('2020-02-05', 'BOVAB18', 118.0, '2020-02-17', 0.08, 0.02, 0.11, 0.09, 39360, '070')\n",
      "Opção encontrada: ('2020-02-05', 'BOVAB20', 120.0, '2020-02-17', 0.04, 0.04, 0.05, 0.04, 7730, '070')\n",
      "Opção encontrada: ('2020-02-06', 'BOVAB18', 118.0, '2020-02-17', 0.08, 0.03, 0.08, 0.04, 33220, '070')\n",
      "Opção encontrada: ('2020-02-06', 'BOVAB20', 120.0, '2020-02-17', 0.04, 0.02, 0.05, 0.03, 94650, '070')\n",
      "Opção encontrada: ('2020-02-06', 'BOVAN18', 118.0, '2020-02-17', 7.13, 7.13, 7.13, 7.13, 3810, '080')\n",
      "Opção encontrada: ('2020-02-07', 'BOVAB18', 118.0, '2020-02-17', 0.03, 0.02, 0.04, 0.03, 45340, '070')\n",
      "Opção encontrada: ('2020-02-07', 'BOVAB20', 120.0, '2020-02-17', 0.03, 0.01, 0.03, 0.02, 18110, '070')\n",
      "Opção encontrada: ('2020-02-10', 'BOVAB18', 118.0, '2020-02-17', 0.02, 0.01, 0.02, 0.02, 112960, '070')\n",
      "Opção encontrada: ('2020-02-10', 'BOVAB20', 120.0, '2020-02-17', 0.01, 0.01, 0.01, 0.01, 19900, '070')\n",
      "Opção encontrada: ('2020-02-11', 'BOVAB18', 118.0, '2020-02-17', 0.01, 0.01, 0.02, 0.01, 5960, '070')\n",
      "Opção encontrada: ('2020-02-11', 'BOVAB20', 120.0, '2020-02-17', 0.01, 0.01, 0.01, 0.01, 5910, '070')\n",
      "Opção encontrada: ('2020-02-12', 'BOVAB18', 118.0, '2020-02-17', 0.01, 0.01, 0.02, 0.02, 51500, '070')\n",
      "Opção encontrada: ('2020-02-12', 'BOVAB20', 120.0, '2020-02-17', 0.01, 0.01, 0.02, 0.02, 119010, '070')\n",
      "Opção encontrada: ('2020-02-13', 'BOVAB18', 118.0, '2020-02-17', 0.01, 0.01, 0.02, 0.02, 80150, '070')\n",
      "Opção encontrada: ('2020-02-13', 'BOVAB20', 120.0, '2020-02-17', 0.01, 0.01, 0.02, 0.01, 66040, '070')\n",
      "Opção encontrada: ('2020-02-13', 'BOVAN18', 118.0, '2020-02-17', 7.11, 7.11, 7.11, 7.11, 100, '080')\n",
      "Opção encontrada: ('2020-02-13', 'BOVAN20', 120.0, '2020-02-17', 9.11, 9.11, 9.11, 9.11, 100, '080')\n",
      "Opção encontrada: ('2020-02-14', 'BOVAB18', 118.0, '2020-02-17', 0.01, 0.01, 0.02, 0.02, 138480, '070')\n",
      "Opção encontrada: ('2020-02-14', 'BOVAB20', 120.0, '2020-02-17', 0.01, 0.01, 0.02, 0.02, 41740, '070')\n",
      "Opção encontrada: ('2019-12-18', 'BOVAB18', 118.0, '2020-02-17', 0.49, 0.49, 0.49, 0.49, 100, '070')\n",
      "Opção encontrada: ('2019-12-19', 'BOVAB18', 118.0, '2020-02-17', 0.51, 0.48, 0.56, 0.56, 8700, '070')\n",
      "Opção encontrada: ('2019-12-20', 'BOVAB18', 118.0, '2020-02-17', 0.5, 0.48, 0.5, 0.48, 10450, '070')\n",
      "Opção encontrada: ('2019-12-20', 'BOVAB20', 120.0, '2020-02-17', 0.24, 0.24, 0.24, 0.24, 60, '070')\n",
      "Opção encontrada: ('2019-12-23', 'BOVAB20', 120.0, '2020-02-17', 0.28, 0.24, 0.28, 0.28, 12860, '070')\n",
      "Opção encontrada: ('2019-12-26', 'BOVAB18', 118.0, '2020-02-17', 0.62, 0.62, 0.9, 0.89, 16910, '070')\n",
      "Opção encontrada: ('2019-12-26', 'BOVAB20', 120.0, '2020-02-17', 0.36, 0.36, 0.48, 0.48, 9970, '070')\n",
      "Opção encontrada: ('2019-12-27', 'BOVAB18', 118.0, '2020-02-17', 1.07, 0.76, 1.07, 0.77, 10570, '070')\n",
      "Opção encontrada: ('2019-12-27', 'BOVAB20', 120.0, '2020-02-17', 0.53, 0.42, 0.53, 0.44, 700, '070')\n",
      "Opção encontrada: ('2019-12-30', 'BOVAB18', 118.0, '2020-02-17', 0.86, 0.66, 0.86, 0.66, 24730, '070')\n",
      "Opção encontrada: ('2019-12-30', 'BOVAB20', 120.0, '2020-02-17', 0.49, 0.35, 0.49, 0.35, 32800, '070')\n"
     ]
    }
   ],
   "source": [
    "for resultado in resultados:\n",
    "    print(f\"Opção encontrada: {resultado}\")"
   ]
  }
 ],
 "metadata": {
  "kernelspec": {
   "display_name": "Python 3",
   "language": "python",
   "name": "python3"
  },
  "language_info": {
   "codemirror_mode": {
    "name": "ipython",
    "version": 3
   },
   "file_extension": ".py",
   "mimetype": "text/x-python",
   "name": "python",
   "nbconvert_exporter": "python",
   "pygments_lexer": "ipython3",
   "version": "3.11.9"
  }
 },
 "nbformat": 4,
 "nbformat_minor": 2
}
