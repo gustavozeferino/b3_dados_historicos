{
 "cells": [
  {
   "cell_type": "code",
   "execution_count": null,
   "metadata": {},
   "outputs": [],
   "source": [
    "import yaml\n",
    "import db\n",
    "from datetime import datetime, timedelta"
   ]
  },
  {
   "cell_type": "code",
   "execution_count": null,
   "metadata": {},
   "outputs": [],
   "source": [
    "# Carregar configurações do arquivo YAML\n",
    "with open(\"config.yml\", \"r\") as config_file:\n",
    "    config = yaml.safe_load(config_file)\n",
    "\n",
    "# Obter configurações do SQLite\n",
    "db_config = config[\"sqlite\"]\n",
    "database_path = db_config[\"database_path\"]\n",
    "timeout = db_config.get(\"timeout\", 5)  # Valor padrão de 5 segundos"
   ]
  },
  {
   "cell_type": "code",
   "execution_count": null,
   "metadata": {},
   "outputs": [],
   "source": [
    "data_inicial = '2020-01-01'\n",
    "data_final = '2020-12-31'\n",
    "\n",
    "#procurar a data de pregão mais próxima.\n",
    "consulta_sql = f\"\"\"SELECT * FROM datas_pregao WHERE DATA BETWEEN ? AND ?\"\"\"\n",
    "resultados = db.consultar_banco(database_path, consulta_sql, (data_inicial, data_final))\n",
    "\n",
    "# Ajusta as datas inicial e final para o intervalo de datas encontrado\n",
    "\n",
    "datas_pregao =[resultado[0] for resultado in resultados]\n",
    "\n",
    "if datas_pregao:\n",
    "    data_inicial = datas_pregao[0]\n",
    "    data_final = datas_pregao[-1]\n",
    "    print(f\"Data inicial: {data_inicial}\")\n",
    "    print(f\"Data final: {data_final}\")\n",
    "else:\n",
    "    print(\"Nenhuma data de pregão encontrada.\")\n",
    "\n"
   ]
  },
  {
   "cell_type": "code",
   "execution_count": null,
   "metadata": {},
   "outputs": [],
   "source": [
    "#procurar datas de vencimentos mais próximas.\n",
    "\n",
    "def somar_dias(data_inicial, numero_dias):\n",
    "    # Converte a string de entrada para um objeto de data\n",
    "    data = datetime.strptime(data_inicial, \"%Y-%m-%d\")\n",
    "    # Adiciona os dias à data\n",
    "    nova_data = data + timedelta(days=numero_dias)\n",
    "    # Retorna a nova data como string no mesmo formato\n",
    "    return nova_data.strftime(\"%Y-%m-%d\")\n",
    "\n",
    "data_inicial_opcao = somar_dias(data_inicial, 30)\n",
    "\n",
    "consulta_sql = f\"\"\"SELECT DATA FROM datas_vencimento WHERE DATA > ?\"\"\"\n",
    "resultado_consulta = db.consultar_banco(database_path, consulta_sql, [data_inicial_opcao])\n",
    "\n",
    "datas_vencimento_opcoes = [resultado[0] for resultado in resultado_consulta]\n",
    "if datas_vencimento_opcoes:\n",
    "    data_inicial_opcao = datas_vencimento_opcoes[0]\n",
    "    print(f\"Data inicial para opções: {data_inicial_opcao}\")\n",
    "else:\n",
    "    print(\"Nenhuma data de vencimento encontrada após {data_inicial_opcao}.\")\n"
   ]
  },
  {
   "cell_type": "code",
   "execution_count": null,
   "metadata": {},
   "outputs": [],
   "source": [
    "def preco_spot_bova11(data_pregao):\n",
    "    # Consulta o preço spot do BOVA11 para a data de pregão especificada\n",
    "    consulta_sql = f\"\"\"SELECT PREULT FROM cotacoes_bova11 WHERE DTPREG = ?\"\"\"\n",
    "    resultados = db.consultar_banco(database_path, consulta_sql, [data_pregao])\n",
    "    preco_spot = resultados[0][0] if resultados else None\n",
    "    return preco_spot"
   ]
  },
  {
   "cell_type": "code",
   "execution_count": null,
   "metadata": {},
   "outputs": [],
   "source": [
    "preco_spot = preco_spot_bova11(data_inicial)\n",
    "strike_inicial = int(preco_spot + 5)\n",
    "print(f\"Preço spot do BOVA11: {preco_spot}\")\n",
    "print(f\"Strike inicial: {strike_inicial}\")"
   ]
  },
  {
   "cell_type": "code",
   "execution_count": null,
   "metadata": {},
   "outputs": [],
   "source": [
    "# encontrar opcao mais próxima do strike\n",
    "consulta_sql = f\"\"\"SELECT DISTINCT CODNEG, PREEXE FROM opcoes_bova11 WHERE DATVEN = ? AND PREEXE = ?\"\"\"\n",
    "\n",
    "opcao_encontrada_codneg = False\n",
    "opcao_encontrada_strike = False\n",
    "\n",
    "for strike in range(strike_inicial, strike_inicial + 2):\n",
    "    resultados = db.consultar_banco(database_path, consulta_sql, (data_inicial_opcao, strike))\n",
    "    if resultados:\n",
    "        opcao_encontrada_codneg = resultados[0][0]\n",
    "        opcao_encontrada_strike = resultados[0][1]\n",
    "        print(f\"Opção encontrada {opcao_encontrada_codneg} Strike {opcao_encontrada_strike}\")\n",
    "        break\n",
    "\n",
    "\n"
   ]
  },
  {
   "cell_type": "code",
   "execution_count": null,
   "metadata": {},
   "outputs": [],
   "source": [
    "for resultado in resultados:\n",
    "    print(f\"Opção encontrada: {resultado}\")"
   ]
  },
  {
   "cell_type": "code",
   "execution_count": null,
   "metadata": {},
   "outputs": [],
   "source": [
    "# Exemplo de uso da classe\n",
    "from portfolio import Portfolio\n",
    "portfolio = Portfolio()\n",
    "\n"
   ]
  },
  {
   "cell_type": "code",
   "execution_count": null,
   "metadata": {},
   "outputs": [],
   "source": [
    "# Adicionando posições\n",
    "portfolio.adiciona_posicao(\"2025-03-28\", \"BOVAD125\", \"2025-04-17\", -1000, 4.5)\n",
    "portfolio.adiciona_posicao(\"2025-03-28\", \"BOVAD127\", \"2025-04-17\", -1000, 2.5)\n",
    "portfolio.adiciona_posicao(\"2025-03-28\", \"BOVAD129\", \"2025-04-17\", -1000, 1.5)\n",
    "portfolio.historico[(\"BOVAD125\", \"2025-04-17\")]"
   ]
  },
  {
   "cell_type": "code",
   "execution_count": null,
   "metadata": {},
   "outputs": [],
   "source": [
    "portfolio.copia_posicoes('2025-03-28', '2025-04-29')\n"
   ]
  },
  {
   "cell_type": "code",
   "execution_count": null,
   "metadata": {},
   "outputs": [],
   "source": [
    "portfolio.posicoes('2025-04-29')"
   ]
  },
  {
   "cell_type": "code",
   "execution_count": null,
   "metadata": {},
   "outputs": [],
   "source": [
    "portfolio.remove_posicao(\"2025-03-28\", \"BOVAD125\", \"2025-04-17\", 2.5)"
   ]
  },
  {
   "cell_type": "code",
   "execution_count": null,
   "metadata": {},
   "outputs": [],
   "source": [
    "portfolio.historico[(\"BOVAD125\", \"2025-04-17\")]"
   ]
  },
  {
   "cell_type": "code",
   "execution_count": null,
   "metadata": {},
   "outputs": [],
   "source": [
    "portfolio.historico_valor()"
   ]
  },
  {
   "cell_type": "code",
   "execution_count": null,
   "metadata": {},
   "outputs": [],
   "source": [
    "portfolio.posicoes_fechadas()"
   ]
  }
 ],
 "metadata": {
  "kernelspec": {
   "display_name": "Python 3",
   "language": "python",
   "name": "python3"
  },
  "language_info": {
   "codemirror_mode": {
    "name": "ipython",
    "version": 3
   },
   "file_extension": ".py",
   "mimetype": "text/x-python",
   "name": "python",
   "nbconvert_exporter": "python",
   "pygments_lexer": "ipython3",
   "version": "3.11.9"
  }
 },
 "nbformat": 4,
 "nbformat_minor": 2
}
