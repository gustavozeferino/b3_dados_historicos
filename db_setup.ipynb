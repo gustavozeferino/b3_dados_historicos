{
 "cells": [
  {
   "cell_type": "markdown",
   "metadata": {},
   "source": [
    "## Roteiro para Simulação\n",
    "\n",
    "1. Especificar uma data de início `data_start`\n",
    "2. Especificar uma data de fim `data_end`\n",
    "3. Criar uma lista de datas de pregão ordenadas nesse intervalo\n",
    "\n",
    "Para cada dia:\n",
    "* Se não tiver posição aberta, abra uma com um strike que represente cerca de 3% de alta e que esteja no mínimo 30 dias de distância do vencimento.\n",
    "* Se estiver posicionado, faltando 3 semanas para o vencimento:\n",
    "    * Se não estiver OTM, faça a rolagem aumentando o máximo possível o strike sem gerar débito.\n",
    "    * Se estiver OTM, esperar chegar em 5 centavos para encerrar ou rolar se chegar 1 dia antes do vencimento.\n",
    "     "
   ]
  }
 ],
 "metadata": {
  "kernelspec": {
   "display_name": "Python 3",
   "language": "python",
   "name": "python3"
  },
  "language_info": {
   "codemirror_mode": {
    "name": "ipython",
    "version": 3
   },
   "file_extension": ".py",
   "mimetype": "text/x-python",
   "name": "python",
   "nbconvert_exporter": "python",
   "pygments_lexer": "ipython3",
   "version": "3.11.9"
  }
 },
 "nbformat": 4,
 "nbformat_minor": 2
}
