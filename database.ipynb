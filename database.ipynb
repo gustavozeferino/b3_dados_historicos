{
 "cells": [
  {
   "cell_type": "code",
   "execution_count": 1,
   "metadata": {},
   "outputs": [],
   "source": [
    "import yaml\n",
    "import db"
   ]
  },
  {
   "cell_type": "code",
   "execution_count": 7,
   "metadata": {},
   "outputs": [],
   "source": [
    "# Carregar configurações do arquivo YAML\n",
    "with open(\"config.yml\", \"r\") as config_file:\n",
    "    config = yaml.safe_load(config_file)\n",
    "\n",
    "# Obter configurações do SQLite\n",
    "db_config = config[\"sqlite\"]\n",
    "database_path = db_config[\"database_path\"]\n",
    "timeout = db_config.get(\"timeout\", 5)  # Valor padrão de 5 segundos\n",
    "\n"
   ]
  },
  {
   "cell_type": "code",
   "execution_count": 11,
   "metadata": {},
   "outputs": [
    {
     "name": "stdout",
     "output_type": "stream",
     "text": [
      "Erro ao trabalhar com o banco de dados: You can only execute one statement at a time.\n",
      "Conexão com o banco de dados encerrada.\n"
     ]
    }
   ],
   "source": [
    "# Dias de vencimento de opções\n",
    "db.criar_datas_vencimento(database_path)"
   ]
  },
  {
   "cell_type": "code",
   "execution_count": 13,
   "metadata": {},
   "outputs": [
    {
     "name": "stdout",
     "output_type": "stream",
     "text": [
      "('2019-01-16',)\n",
      "('2019-01-21',)\n",
      "('2019-02-13',)\n",
      "('2019-02-18',)\n",
      "('2019-03-13',)\n",
      "('2019-03-18',)\n",
      "('2019-04-15',)\n",
      "('2019-04-17',)\n",
      "('2019-05-15',)\n",
      "('2019-05-20',)\n",
      "('2019-06-12',)\n",
      "('2019-06-17',)\n",
      "('2019-07-15',)\n",
      "('2019-07-17',)\n",
      "('2019-08-14',)\n",
      "('2019-08-19',)\n",
      "('2019-09-16',)\n",
      "('2019-09-18',)\n",
      "('2019-10-16',)\n",
      "('2019-10-21',)\n",
      "('2019-11-13',)\n",
      "('2019-11-18',)\n",
      "('2019-12-16',)\n",
      "('2019-12-18',)\n",
      "('2020-01-15',)\n",
      "('2020-01-20',)\n",
      "('2020-02-12',)\n",
      "('2020-02-17',)\n",
      "('2020-03-16',)\n",
      "('2020-03-18',)\n"
     ]
    }
   ],
   "source": [
    "consulta_sql = \"\"\" SELECT * FROM datas_vencimento LIMIT 30\"\"\"\n",
    "resultados = db.consultar_banco(database_path, consulta_sql)\n",
    "\n",
    "for linha in resultados:\n",
    "    print(linha)"
   ]
  },
  {
   "cell_type": "code",
   "execution_count": null,
   "metadata": {},
   "outputs": [],
   "source": [
    "caminho_banco   = database_path\n",
    "tabela_original = 'cotacoes_historicas'\n",
    "tabela_opcoes   = 'cotacoes_historicas_ativos_com_opcoes'\n",
    "\n",
    "db.criar_tabela_ativos_com_opcoes(caminho_banco, tabela_original, tabela_opcoes)\n"
   ]
  }
 ],
 "metadata": {
  "kernelspec": {
   "display_name": "Python 3",
   "language": "python",
   "name": "python3"
  },
  "language_info": {
   "codemirror_mode": {
    "name": "ipython",
    "version": 3
   },
   "file_extension": ".py",
   "mimetype": "text/x-python",
   "name": "python",
   "nbconvert_exporter": "python",
   "pygments_lexer": "ipython3",
   "version": "3.11.9"
  }
 },
 "nbformat": 4,
 "nbformat_minor": 2
}
