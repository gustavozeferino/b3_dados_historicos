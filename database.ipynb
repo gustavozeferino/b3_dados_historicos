{
 "cells": [
  {
   "cell_type": "code",
   "execution_count": 6,
   "metadata": {},
   "outputs": [],
   "source": [
    "import sqlite3\n",
    "import yaml\n",
    "import csv"
   ]
  },
  {
   "cell_type": "code",
   "execution_count": null,
   "metadata": {},
   "outputs": [],
   "source": [
    "# Carregar configurações do arquivo YAML\n",
    "with open(\"config.yml\", \"r\") as config_file:\n",
    "    config = yaml.safe_load(config_file)\n",
    "\n",
    "# Obter configurações do SQLite\n",
    "db_config = config[\"sqlite\"]\n",
    "database_path = db_config[\"database_path\"]\n",
    "timeout = db_config.get(\"timeout\", 5)  # Valor padrão de 5 segundos\n",
    "\n",
    "db_conection = sqlite3.connect(database_path, timeout=timeout)\n",
    "db_cursor = db_conection.cursor()\n",
    "\n",
    "\n",
    "\n",
    "\n"
   ]
  }
 ],
 "metadata": {
  "kernelspec": {
   "display_name": "Python 3",
   "language": "python",
   "name": "python3"
  },
  "language_info": {
   "codemirror_mode": {
    "name": "ipython",
    "version": 3
   },
   "file_extension": ".py",
   "mimetype": "text/x-python",
   "name": "python",
   "nbconvert_exporter": "python",
   "pygments_lexer": "ipython3",
   "version": "3.11.9"
  }
 },
 "nbformat": 4,
 "nbformat_minor": 2
}
